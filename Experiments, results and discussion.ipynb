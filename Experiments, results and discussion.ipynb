{
 "cells": [
  {
   "cell_type": "markdown",
   "metadata": {},
   "source": [
    "# Imports"
   ]
  },
  {
   "cell_type": "code",
   "execution_count": 2203,
   "metadata": {},
   "outputs": [],
   "source": [
    "from numpy.random import seed\n",
    "seed(1)\n",
    "\n",
    "import pandas as pd\n",
    "import numpy as np\n",
    "import seaborn as sns\n",
    "import matplotlib.pyplot as plt\n",
    "import itertools\n",
    "\n",
    "from sklearn.ensemble import RandomForestClassifier\n",
    "from sklearn.model_selection import train_test_split\n",
    "from sklearn.metrics import confusion_matrix, classification_report, balanced_accuracy_score\n",
    "\n",
    "from keras.models import Sequential\n",
    "from keras.layers.core import Dense\n",
    "from keras.layers.core import Dropout\n",
    "from keras.wrappers.scikit_learn import KerasClassifier\n",
    "from keras.utils import to_categorical\n",
    "from tensorflow.keras.constraints import max_norm\n",
    "from sklearn.utils import class_weight\n",
    "from keras.optimizers import SGD\n",
    "\n",
    "\n"
   ]
  },
  {
   "cell_type": "code",
   "execution_count": 2204,
   "metadata": {},
   "outputs": [],
   "source": [
    "# Reading the dataset\n",
    "ds = pd.read_csv('preprocessed_data.csv')\n",
    "ds = ds.drop('Unnamed: 0', axis=1)"
   ]
  },
  {
   "cell_type": "code",
   "execution_count": 2205,
   "metadata": {},
   "outputs": [],
   "source": [
    "# Splittig features and target\n",
    "X = ds.drop('DX_bl', axis=1)\n",
    "y = ds[['DX_bl']]"
   ]
  },
  {
   "cell_type": "code",
   "execution_count": 2206,
   "metadata": {},
   "outputs": [
    {
     "data": {
      "text/plain": [
       "(1121, 5)"
      ]
     },
     "execution_count": 2206,
     "metadata": {},
     "output_type": "execute_result"
    }
   ],
   "source": [
    "# Encoding target attribute so it can be used properly in the NN models\n",
    "y_nn = to_categorical(y-1, num_classes=5)\n",
    "y_nn.shape"
   ]
  },
  {
   "cell_type": "code",
   "execution_count": 2207,
   "metadata": {},
   "outputs": [],
   "source": [
    "X_train, X_test, y_train, y_test = train_test_split(X, y, test_size=0.3, random_state=42)"
   ]
  },
  {
   "cell_type": "code",
   "execution_count": 2208,
   "metadata": {},
   "outputs": [
    {
     "data": {
      "text/plain": [
       "(784, 1)"
      ]
     },
     "execution_count": 2208,
     "metadata": {},
     "output_type": "execute_result"
    }
   ],
   "source": [
    "y_test = np.ravel(y_test)\n",
    "y_train.to_numpy().shape"
   ]
  },
  {
   "cell_type": "code",
   "execution_count": 2209,
   "metadata": {},
   "outputs": [
    {
     "name": "stdout",
     "output_type": "stream",
     "text": [
      "[0.71598174 0.57226277 1.0248366  2.75087719 1.93580247]\n"
     ]
    }
   ],
   "source": [
    "class_weights = class_weight.compute_class_weight('balanced', np.unique(y_train), y_train.to_numpy().reshape((-1,)))\n",
    "print(class_weights)\n",
    "class_weights={1:0.71598174, 2:0.57226277, 3:1.0248366,  4:2.75087719, 5:1.93580247}"
   ]
  },
  {
   "cell_type": "markdown",
   "metadata": {},
   "source": [
    "# Evaluating Random Forest Model"
   ]
  },
  {
   "cell_type": "code",
   "execution_count": 2210,
   "metadata": {},
   "outputs": [
    {
     "name": "stdout",
     "output_type": "stream",
     "text": [
      "Wall time: 304 ms\n"
     ]
    },
    {
     "data": {
      "text/plain": [
       "RandomForestClassifier(bootstrap=True,\n",
       "                       class_weight={1: 0.71598174, 2: 0.57226277, 3: 1.0248366,\n",
       "                                     4: 2.75087719, 5: 1.93580247},\n",
       "                       criterion='gini', max_depth=None, max_features='auto',\n",
       "                       max_leaf_nodes=None, min_impurity_decrease=0.0,\n",
       "                       min_impurity_split=None, min_samples_leaf=1,\n",
       "                       min_samples_split=6, min_weight_fraction_leaf=0.0,\n",
       "                       n_estimators=200, n_jobs=None, oob_score=False,\n",
       "                       random_state=42, verbose=0, warm_start=False)"
      ]
     },
     "execution_count": 2210,
     "metadata": {},
     "output_type": "execute_result"
    }
   ],
   "source": [
    "%%time\n",
    "# Creating the model\n",
    "y_train = np.ravel(y_train)\n",
    "rf_model = RandomForestClassifier(n_estimators=200, min_samples_split=6, min_samples_leaf=1, \n",
    "                                  max_features='auto', max_depth=None, bootstrap=True, random_state=42, class_weight=class_weights)\n",
    "# Training the model\n",
    "rf_model.fit(X_train, y_train)"
   ]
  },
  {
   "cell_type": "code",
   "execution_count": 2211,
   "metadata": {},
   "outputs": [
    {
     "name": "stdout",
     "output_type": "stream",
     "text": [
      "Wall time: 35.9 ms\n"
     ]
    }
   ],
   "source": [
    "%%time\n",
    "# Using model to predict target labels\n",
    "y_pred = rf_model.predict(X_test)"
   ]
  },
  {
   "cell_type": "code",
   "execution_count": 2212,
   "metadata": {},
   "outputs": [
    {
     "data": {
      "image/png": "[encoded data removed]",
      "text/plain": [
       "<Figure size 576x576 with 1 Axes>"
      ]
     },
     "metadata": {
      "needs_background": "light"
     },
     "output_type": "display_data"
    }
   ],
   "source": [
    "# Constructing the confusion matrix\n",
    "rf_mat = confusion_matrix(y_test, y_pred)\n",
    "# Defining heigh & width for the figure\n",
    "plt.figure(figsize=(8,8))\n",
    "# Defining parameters for the heat map\n",
    "ax = sns.heatmap(rf_mat1.T, square=True, annot=True, fmt='d', cbar=False, cmap='YlGn', annot_kws={\"size\": 14})\n",
    "ax.set_ylim(5,0)\n",
    "# Defining title and label names\n",
    "plt.title('RF Confusion Matrix', fontsize=18)\n",
    "plt.xlabel('True label', fontsize=14)\n",
    "plt.ylabel('Predicted label', fontsize=14)\n",
    "# Denoting ticks on the axis\n",
    "ax.set_xticklabels(labels=['CN','EMCI','LMCI','SMC','AD'])\n",
    "ax.set_yticklabels(labels=['CN','EMCI','LMCI','SMC','AD'])\n",
    "# Showing the plot\n",
    "plt.show()"
   ]
  },
  {
   "cell_type": "code",
   "execution_count": 2213,
   "metadata": {},
   "outputs": [
    {
     "data": {
      "text/plain": [
       "0.6053412462908012"
      ]
     },
     "execution_count": 2213,
     "metadata": {},
     "output_type": "execute_result"
    }
   ],
   "source": [
    "# Evaluating accuracy\n",
    "rf_model.score(X_test,y_test)"
   ]
  },
  {
   "cell_type": "code",
   "execution_count": 2214,
   "metadata": {},
   "outputs": [
    {
     "name": "stdout",
     "output_type": "stream",
     "text": [
      "              precision    recall  f1-score   support\n",
      "\n",
      "          CN       0.75      0.85      0.80        97\n",
      "        EMCI       0.52      0.83      0.64        89\n",
      "        LMCI       0.52      0.26      0.35        93\n",
      "         SMC       0.00      0.00      0.00        26\n",
      "          AD       0.60      0.75      0.67        32\n",
      "\n",
      "    accuracy                           0.61       337\n",
      "   macro avg       0.48      0.54      0.49       337\n",
      "weighted avg       0.56      0.61      0.56       337\n",
      "\n"
     ]
    }
   ],
   "source": [
    "# Classification report - computing precision, recall, f1-score\n",
    "# print(classification_report(y_test, y_pred, target_names=['CN','EMCI','AD'], labels=[1,2,5]))\n",
    "print(classification_report(y_test, y_pred, target_names=['CN','EMCI','LMCI','SMC','AD']))"
   ]
  },
  {
   "cell_type": "code",
   "execution_count": 2215,
   "metadata": {},
   "outputs": [
    {
     "data": {
      "text/plain": [
       "0.5369772030057207"
      ]
     },
     "execution_count": 2215,
     "metadata": {},
     "output_type": "execute_result"
    }
   ],
   "source": [
    "balanced_accuracy_score(y_test,y_pred)"
   ]
  },
  {
   "cell_type": "markdown",
   "metadata": {},
   "source": [
    "# Evaluating Neural Network Model"
   ]
  },
  {
   "cell_type": "code",
   "execution_count": 2194,
   "metadata": {},
   "outputs": [],
   "source": [
    "y_nn_test = y_test.reshape((-1,1))-1\n",
    "y_nn_train = y_train.reshape((-1,1))-1\n",
    "X_nn_train = X_train.to_numpy()\n",
    "X_nn_test = X_test.to_numpy()\n",
    "np.set_printoptions(suppress=True)\n",
    "\n",
    "class_weights = class_weight.compute_class_weight('balanced', np.unique(y_train-1), y_train-1)"
   ]
  },
  {
   "cell_type": "code",
   "execution_count": 2195,
   "metadata": {},
   "outputs": [
    {
     "name": "stdout",
     "output_type": "stream",
     "text": [
      "Model: \"sequential_205\"\n",
      "_________________________________________________________________\n",
      "Layer (type)                 Output Shape              Param #   \n",
      "=================================================================\n",
      "dense_510 (Dense)            (None, 12)                180       \n",
      "_________________________________________________________________\n",
      "dropout_128 (Dropout)        (None, 12)                0         \n",
      "_________________________________________________________________\n",
      "dense_511 (Dense)            (None, 5)                 65        \n",
      "=================================================================\n",
      "Total params: 245\n",
      "Trainable params: 245\n",
      "Non-trainable params: 0\n",
      "_________________________________________________________________\n",
      "Wall time: 57.9 ms\n"
     ]
    }
   ],
   "source": [
    "%%time\n",
    "# Creating the model\n",
    "nn_model = Sequential()\n",
    "nn_model.add(Dense(12, input_dim=14,  activation='relu', kernel_constraint=max_norm(1)))\n",
    "nn_model.add(Dropout(0.1))\n",
    "#nn_model.add(Dense(42, activation='relu'))\n",
    "nn_model.add(Dense(5, activation='softmax'))\n",
    "nn_model.compile(loss='sparse_categorical_crossentropy', optimizer='adam', metrics=['accuracy'])\n",
    "nn_model.summary()\n"
   ]
  },
  {
   "cell_type": "code",
   "execution_count": 2196,
   "metadata": {},
   "outputs": [
    {
     "name": "stdout",
     "output_type": "stream",
     "text": [
      "Train on 627 samples, validate on 157 samples\n",
      "Epoch 1/100\n",
      "627/627 [==============================] - 0s 523us/step - loss: 534591.8771 - accuracy: 0.1898 - val_loss: 467535.3328 - val_accuracy: 0.2420\n",
      "Epoch 2/100\n",
      "627/627 [==============================] - 0s 17us/step - loss: 510692.8818 - accuracy: 0.1914 - val_loss: 438985.0939 - val_accuracy: 0.2420\n",
      "Epoch 3/100\n",
      "627/627 [==============================] - 0s 19us/step - loss: 469075.4244 - accuracy: 0.1850 - val_loss: 410937.5941 - val_accuracy: 0.2420\n",
      "Epoch 4/100\n",
      "627/627 [==============================] - 0s 19us/step - loss: 451310.2284 - accuracy: 0.1866 - val_loss: 384025.6517 - val_accuracy: 0.2420\n",
      "Epoch 5/100\n",
      "627/627 [==============================] - 0s 19us/step - loss: 419730.0839 - accuracy: 0.1786 - val_loss: 358737.5854 - val_accuracy: 0.2420\n",
      "Epoch 6/100\n",
      "627/627 [==============================] - 0s 19us/step - loss: 394325.4744 - accuracy: 0.1898 - val_loss: 334391.3927 - val_accuracy: 0.2420\n",
      "Epoch 7/100\n",
      "627/627 [==============================] - 0s 21us/step - loss: 369321.8800 - accuracy: 0.2041 - val_loss: 310930.4986 - val_accuracy: 0.2420\n",
      "Epoch 8/100\n",
      "627/627 [==============================] - 0s 19us/step - loss: 354878.8986 - accuracy: 0.2010 - val_loss: 288219.7383 - val_accuracy: 0.2420\n",
      "Epoch 9/100\n",
      "627/627 [==============================] - 0s 21us/step - loss: 318440.9312 - accuracy: 0.1962 - val_loss: 266200.3205 - val_accuracy: 0.2420\n",
      "Epoch 10/100\n",
      "627/627 [==============================] - 0s 17us/step - loss: 299734.9110 - accuracy: 0.1595 - val_loss: 245345.9793 - val_accuracy: 0.2420\n",
      "Epoch 11/100\n",
      "627/627 [==============================] - 0s 19us/step - loss: 282661.7234 - accuracy: 0.1898 - val_loss: 225433.9723 - val_accuracy: 0.2420\n",
      "Epoch 12/100\n",
      "627/627 [==============================] - 0s 22us/step - loss: 263506.6079 - accuracy: 0.1595 - val_loss: 206469.2434 - val_accuracy: 0.2420\n",
      "Epoch 13/100\n",
      "627/627 [==============================] - 0s 22us/step - loss: 251007.9526 - accuracy: 0.1978 - val_loss: 188659.6308 - val_accuracy: 0.2420\n",
      "Epoch 14/100\n",
      "627/627 [==============================] - 0s 21us/step - loss: 240329.7631 - accuracy: 0.1802 - val_loss: 172456.0125 - val_accuracy: 0.1083\n",
      "Epoch 15/100\n",
      "627/627 [==============================] - 0s 16us/step - loss: 223018.2862 - accuracy: 0.1659 - val_loss: 157657.1646 - val_accuracy: 0.1911\n",
      "Epoch 16/100\n",
      "627/627 [==============================] - 0s 21us/step - loss: 211964.8768 - accuracy: 0.1914 - val_loss: 144439.9329 - val_accuracy: 0.2420\n",
      "Epoch 17/100\n",
      "627/627 [==============================] - 0s 22us/step - loss: 195913.9254 - accuracy: 0.1978 - val_loss: 130554.4127 - val_accuracy: 0.2420\n",
      "Epoch 18/100\n",
      "627/627 [==============================] - 0s 21us/step - loss: 183790.1647 - accuracy: 0.1978 - val_loss: 116230.8272 - val_accuracy: 0.1083\n",
      "Epoch 19/100\n",
      "627/627 [==============================] - 0s 21us/step - loss: 182019.8180 - accuracy: 0.1914 - val_loss: 105866.7426 - val_accuracy: 0.3631\n",
      "Epoch 20/100\n",
      "627/627 [==============================] - 0s 19us/step - loss: 167821.7352 - accuracy: 0.3030 - val_loss: 100977.4780 - val_accuracy: 0.3631\n",
      "Epoch 21/100\n",
      "627/627 [==============================] - 0s 21us/step - loss: 166020.5245 - accuracy: 0.2440 - val_loss: 95800.7905 - val_accuracy: 0.1720\n",
      "Epoch 22/100\n",
      "627/627 [==============================] - 0s 22us/step - loss: 163130.4331 - accuracy: 0.1659 - val_loss: 91879.2485 - val_accuracy: 0.1592\n",
      "Epoch 23/100\n",
      "627/627 [==============================] - 0s 21us/step - loss: 146706.6451 - accuracy: 0.1994 - val_loss: 86102.3904 - val_accuracy: 0.2484\n",
      "Epoch 24/100\n",
      "627/627 [==============================] - 0s 19us/step - loss: 146279.1496 - accuracy: 0.2472 - val_loss: 81794.6045 - val_accuracy: 0.3121\n",
      "Epoch 25/100\n",
      "627/627 [==============================] - 0s 25us/step - loss: 144754.7741 - accuracy: 0.2089 - val_loss: 77885.4247 - val_accuracy: 0.2420\n",
      "Epoch 26/100\n",
      "627/627 [==============================] - 0s 19us/step - loss: 132851.3023 - accuracy: 0.2217 - val_loss: 74126.5628 - val_accuracy: 0.2293\n",
      "Epoch 27/100\n",
      "627/627 [==============================] - 0s 21us/step - loss: 127062.6651 - accuracy: 0.2153 - val_loss: 70653.1456 - val_accuracy: 0.3057\n",
      "Epoch 28/100\n",
      "627/627 [==============================] - 0s 17us/step - loss: 132731.6714 - accuracy: 0.2472 - val_loss: 67291.1406 - val_accuracy: 0.2739\n",
      "Epoch 29/100\n",
      "627/627 [==============================] - 0s 18us/step - loss: 117224.0491 - accuracy: 0.2408 - val_loss: 64067.5940 - val_accuracy: 0.2293\n",
      "Epoch 30/100\n",
      "627/627 [==============================] - 0s 22us/step - loss: 120007.4463 - accuracy: 0.2456 - val_loss: 60874.4789 - val_accuracy: 0.2166\n",
      "Epoch 31/100\n",
      "627/627 [==============================] - 0s 21us/step - loss: 111141.8489 - accuracy: 0.2089 - val_loss: 57968.0752 - val_accuracy: 0.2866\n",
      "Epoch 32/100\n",
      "627/627 [==============================] - 0s 21us/step - loss: 108729.3139 - accuracy: 0.2456 - val_loss: 55412.6213 - val_accuracy: 0.2166\n",
      "Epoch 33/100\n",
      "627/627 [==============================] - 0s 17us/step - loss: 105906.7330 - accuracy: 0.2153 - val_loss: 52754.1316 - val_accuracy: 0.3057\n",
      "Epoch 34/100\n",
      "627/627 [==============================] - 0s 22us/step - loss: 99564.2359 - accuracy: 0.2233 - val_loss: 50172.5263 - val_accuracy: 0.2293\n",
      "Epoch 35/100\n",
      "627/627 [==============================] - 0s 21us/step - loss: 96471.7016 - accuracy: 0.2153 - val_loss: 47555.9936 - val_accuracy: 0.2866\n",
      "Epoch 36/100\n",
      "627/627 [==============================] - 0s 19us/step - loss: 91003.6170 - accuracy: 0.2456 - val_loss: 45015.0282 - val_accuracy: 0.2930\n",
      "Epoch 37/100\n",
      "627/627 [==============================] - 0s 19us/step - loss: 92227.2609 - accuracy: 0.2679 - val_loss: 42560.5120 - val_accuracy: 0.2229\n",
      "Epoch 38/100\n",
      "627/627 [==============================] - 0s 19us/step - loss: 80629.7517 - accuracy: 0.2440 - val_loss: 40224.9935 - val_accuracy: 0.2675\n",
      "Epoch 39/100\n",
      "627/627 [==============================] - 0s 17us/step - loss: 84044.5106 - accuracy: 0.2089 - val_loss: 37959.0570 - val_accuracy: 0.3121\n",
      "Epoch 40/100\n",
      "627/627 [==============================] - 0s 13us/step - loss: 81624.0235 - accuracy: 0.2137 - val_loss: 35732.8287 - val_accuracy: 0.2293\n",
      "Epoch 41/100\n",
      "627/627 [==============================] - 0s 19us/step - loss: 74085.7036 - accuracy: 0.2440 - val_loss: 33492.7350 - val_accuracy: 0.3057\n",
      "Epoch 42/100\n",
      "627/627 [==============================] - 0s 16us/step - loss: 73647.2549 - accuracy: 0.2376 - val_loss: 31467.0886 - val_accuracy: 0.2166\n",
      "Epoch 43/100\n",
      "627/627 [==============================] - 0s 18us/step - loss: 70478.9188 - accuracy: 0.1834 - val_loss: 29420.2241 - val_accuracy: 0.2675\n",
      "Epoch 44/100\n",
      "627/627 [==============================] - 0s 18us/step - loss: 68476.0561 - accuracy: 0.2313 - val_loss: 27411.4481 - val_accuracy: 0.2548\n",
      "Epoch 45/100\n",
      "627/627 [==============================] - 0s 21us/step - loss: 70118.7330 - accuracy: 0.2265 - val_loss: 25357.5711 - val_accuracy: 0.3185\n",
      "Epoch 46/100\n",
      "627/627 [==============================] - 0s 22us/step - loss: 64744.6684 - accuracy: 0.2360 - val_loss: 23448.5378 - val_accuracy: 0.2484\n",
      "Epoch 47/100\n",
      "627/627 [==============================] - 0s 13us/step - loss: 60517.9508 - accuracy: 0.2010 - val_loss: 21488.6217 - val_accuracy: 0.2293\n",
      "Epoch 48/100\n",
      "627/627 [==============================] - 0s 16us/step - loss: 55450.2431 - accuracy: 0.2568 - val_loss: 19526.9491 - val_accuracy: 0.2866\n",
      "Epoch 49/100\n",
      "627/627 [==============================] - 0s 18us/step - loss: 56895.9820 - accuracy: 0.2137 - val_loss: 17558.3513 - val_accuracy: 0.2611\n",
      "Epoch 50/100\n",
      "627/627 [==============================] - 0s 16us/step - loss: 56018.1051 - accuracy: 0.2584 - val_loss: 15635.4506 - val_accuracy: 0.2866\n",
      "Epoch 51/100\n",
      "627/627 [==============================] - 0s 13us/step - loss: 47543.6426 - accuracy: 0.2297 - val_loss: 13876.4481 - val_accuracy: 0.2357\n",
      "Epoch 52/100\n",
      "627/627 [==============================] - 0s 16us/step - loss: 44239.6476 - accuracy: 0.2249 - val_loss: 12025.2093 - val_accuracy: 0.2930\n",
      "Epoch 53/100\n",
      "627/627 [==============================] - 0s 13us/step - loss: 39027.6512 - accuracy: 0.2440 - val_loss: 10384.1264 - val_accuracy: 0.2038\n"
     ]
    },
    {
     "name": "stdout",
     "output_type": "stream",
     "text": [
      "Epoch 54/100\n",
      "627/627 [==============================] - 0s 13us/step - loss: 43622.9100 - accuracy: 0.1962 - val_loss: 8522.6790 - val_accuracy: 0.3185\n",
      "Epoch 55/100\n",
      "627/627 [==============================] - 0s 17us/step - loss: 39228.0428 - accuracy: 0.2360 - val_loss: 7053.3609 - val_accuracy: 0.2102\n",
      "Epoch 56/100\n",
      "627/627 [==============================] - 0s 13us/step - loss: 36272.8426 - accuracy: 0.2392 - val_loss: 5499.0838 - val_accuracy: 0.3248\n",
      "Epoch 57/100\n",
      "627/627 [==============================] - 0s 18us/step - loss: 34470.4004 - accuracy: 0.2344 - val_loss: 4221.1907 - val_accuracy: 0.1847\n",
      "Epoch 58/100\n",
      "627/627 [==============================] - 0s 16us/step - loss: 34975.1310 - accuracy: 0.2360 - val_loss: 2656.3848 - val_accuracy: 0.3057\n",
      "Epoch 59/100\n",
      "627/627 [==============================] - 0s 13us/step - loss: 31545.3941 - accuracy: 0.2297 - val_loss: 1285.2154 - val_accuracy: 0.2803\n",
      "Epoch 60/100\n",
      "627/627 [==============================] - 0s 16us/step - loss: 29999.7549 - accuracy: 0.2823 - val_loss: 1042.0926 - val_accuracy: 0.2611\n",
      "Epoch 61/100\n",
      "627/627 [==============================] - 0s 13us/step - loss: 27237.5647 - accuracy: 0.2807 - val_loss: 1278.7312 - val_accuracy: 0.2548\n",
      "Epoch 62/100\n",
      "627/627 [==============================] - 0s 16us/step - loss: 32034.3908 - accuracy: 0.2695 - val_loss: 1231.3024 - val_accuracy: 0.2803\n",
      "Epoch 63/100\n",
      "627/627 [==============================] - 0s 17us/step - loss: 25671.5133 - accuracy: 0.2392 - val_loss: 588.7873 - val_accuracy: 0.2675\n",
      "Epoch 64/100\n",
      "627/627 [==============================] - 0s 16us/step - loss: 32133.0726 - accuracy: 0.2791 - val_loss: 590.4691 - val_accuracy: 0.3376\n",
      "Epoch 65/100\n",
      "627/627 [==============================] - 0s 13us/step - loss: 24929.0499 - accuracy: 0.2998 - val_loss: 485.2181 - val_accuracy: 0.2229\n",
      "Epoch 66/100\n",
      "627/627 [==============================] - 0s 16us/step - loss: 28050.5067 - accuracy: 0.2408 - val_loss: 587.7153 - val_accuracy: 0.2994\n",
      "Epoch 67/100\n",
      "627/627 [==============================] - 0s 11us/step - loss: 28088.6321 - accuracy: 0.2887 - val_loss: 641.7121 - val_accuracy: 0.2675\n",
      "Epoch 68/100\n",
      "627/627 [==============================] - 0s 16us/step - loss: 29512.9866 - accuracy: 0.2967 - val_loss: 587.9934 - val_accuracy: 0.2102\n",
      "Epoch 69/100\n",
      "627/627 [==============================] - 0s 16us/step - loss: 28610.0042 - accuracy: 0.2568 - val_loss: 480.2046 - val_accuracy: 0.2994\n",
      "Epoch 70/100\n",
      "627/627 [==============================] - 0s 13us/step - loss: 25678.5387 - accuracy: 0.2616 - val_loss: 494.0740 - val_accuracy: 0.2994\n",
      "Epoch 71/100\n",
      "627/627 [==============================] - 0s 16us/step - loss: 25971.4961 - accuracy: 0.2855 - val_loss: 525.9011 - val_accuracy: 0.3503\n",
      "Epoch 72/100\n",
      "627/627 [==============================] - 0s 17us/step - loss: 30225.7004 - accuracy: 0.2360 - val_loss: 505.6093 - val_accuracy: 0.3185\n",
      "Epoch 73/100\n",
      "627/627 [==============================] - 0s 14us/step - loss: 26312.9874 - accuracy: 0.2823 - val_loss: 467.4525 - val_accuracy: 0.2994\n",
      "Epoch 74/100\n",
      "627/627 [==============================] - 0s 13us/step - loss: 27316.0913 - accuracy: 0.2887 - val_loss: 445.4114 - val_accuracy: 0.2930\n",
      "Epoch 75/100\n",
      "627/627 [==============================] - 0s 19us/step - loss: 24422.3356 - accuracy: 0.2759 - val_loss: 467.6553 - val_accuracy: 0.2548\n",
      "Epoch 76/100\n",
      "627/627 [==============================] - 0s 18us/step - loss: 26015.2078 - accuracy: 0.2855 - val_loss: 441.5280 - val_accuracy: 0.3057\n",
      "Epoch 77/100\n",
      "627/627 [==============================] - 0s 13us/step - loss: 23687.3557 - accuracy: 0.3014 - val_loss: 422.9626 - val_accuracy: 0.3376\n",
      "Epoch 78/100\n",
      "627/627 [==============================] - 0s 14us/step - loss: 28360.7311 - accuracy: 0.3062 - val_loss: 428.8686 - val_accuracy: 0.3057\n",
      "Epoch 79/100\n",
      "627/627 [==============================] - 0s 17us/step - loss: 21780.1177 - accuracy: 0.3062 - val_loss: 436.2829 - val_accuracy: 0.2994\n",
      "Epoch 80/100\n",
      "627/627 [==============================] - 0s 11us/step - loss: 26553.3375 - accuracy: 0.2679 - val_loss: 395.1469 - val_accuracy: 0.3185\n",
      "Epoch 81/100\n",
      "627/627 [==============================] - 0s 21us/step - loss: 21509.0894 - accuracy: 0.3190 - val_loss: 398.1941 - val_accuracy: 0.2739\n",
      "Epoch 82/100\n",
      "627/627 [==============================] - 0s 21us/step - loss: 22031.0646 - accuracy: 0.2951 - val_loss: 409.8249 - val_accuracy: 0.2803\n",
      "Epoch 83/100\n",
      "627/627 [==============================] - 0s 22us/step - loss: 21477.9015 - accuracy: 0.3046 - val_loss: 398.0060 - val_accuracy: 0.2930\n",
      "Epoch 84/100\n",
      "627/627 [==============================] - 0s 21us/step - loss: 21517.3770 - accuracy: 0.2903 - val_loss: 392.8944 - val_accuracy: 0.2994\n",
      "Epoch 85/100\n",
      "627/627 [==============================] - 0s 19us/step - loss: 19285.8781 - accuracy: 0.3222 - val_loss: 394.8621 - val_accuracy: 0.2611\n",
      "Epoch 86/100\n",
      "627/627 [==============================] - 0s 16us/step - loss: 20906.9469 - accuracy: 0.2919 - val_loss: 391.8434 - val_accuracy: 0.2930\n",
      "Epoch 87/100\n",
      "627/627 [==============================] - 0s 27us/step - loss: 24724.1408 - accuracy: 0.2871 - val_loss: 395.9505 - val_accuracy: 0.2866\n",
      "Epoch 88/100\n",
      "627/627 [==============================] - 0s 17us/step - loss: 21817.0591 - accuracy: 0.2967 - val_loss: 389.4677 - val_accuracy: 0.2994\n",
      "Epoch 89/100\n",
      "627/627 [==============================] - ETA: 0s - loss: 23304.5820 - accuracy: 0.29 - 0s 17us/step - loss: 22304.8756 - accuracy: 0.2967 - val_loss: 381.6543 - val_accuracy: 0.2930\n",
      "Epoch 90/100\n",
      "627/627 [==============================] - ETA: 0s - loss: 26870.5391 - accuracy: 0.25 - 0s 17us/step - loss: 23786.3751 - accuracy: 0.3110 - val_loss: 401.7751 - val_accuracy: 0.2739\n",
      "Epoch 91/100\n",
      "627/627 [==============================] - ETA: 0s - loss: 38025.1172 - accuracy: 0.32 - 0s 19us/step - loss: 23681.6687 - accuracy: 0.2903 - val_loss: 397.2603 - val_accuracy: 0.3248\n",
      "Epoch 92/100\n",
      "627/627 [==============================] - 0s 16us/step - loss: 23799.8167 - accuracy: 0.3158 - val_loss: 383.6446 - val_accuracy: 0.3057\n",
      "Epoch 93/100\n",
      "627/627 [==============================] - 0s 17us/step - loss: 19712.8184 - accuracy: 0.2903 - val_loss: 383.1768 - val_accuracy: 0.2675\n",
      "Epoch 94/100\n",
      "627/627 [==============================] - 0s 16us/step - loss: 20211.8998 - accuracy: 0.3046 - val_loss: 389.8298 - val_accuracy: 0.3248\n",
      "Epoch 95/100\n",
      "627/627 [==============================] - 0s 16us/step - loss: 22093.4908 - accuracy: 0.2616 - val_loss: 377.7507 - val_accuracy: 0.2994\n",
      "Epoch 96/100\n",
      "627/627 [==============================] - 0s 19us/step - loss: 23174.0103 - accuracy: 0.2775 - val_loss: 378.7674 - val_accuracy: 0.2866\n",
      "Epoch 97/100\n",
      "627/627 [==============================] - 0s 17us/step - loss: 21104.2451 - accuracy: 0.2839 - val_loss: 373.5293 - val_accuracy: 0.3248\n",
      "Epoch 98/100\n",
      "627/627 [==============================] - 0s 21us/step - loss: 23745.2548 - accuracy: 0.2807 - val_loss: 382.4379 - val_accuracy: 0.3185\n",
      "Epoch 99/100\n",
      "627/627 [==============================] - 0s 24us/step - loss: 21366.7173 - accuracy: 0.3158 - val_loss: 383.4873 - val_accuracy: 0.2675\n",
      "Epoch 100/100\n",
      "627/627 [==============================] - 0s 14us/step - loss: 23848.4869 - accuracy: 0.2695 - val_loss: 377.1038 - val_accuracy: 0.3185\n",
      "Wall time: 2.08 s\n"
     ]
    },
    {
     "data": {
      "text/plain": [
       "<keras.callbacks.callbacks.History at 0x2405ba58f88>"
      ]
     },
     "execution_count": 2196,
     "metadata": {},
     "output_type": "execute_result"
    }
   ],
   "source": [
    "%%time\n",
    "# Training the model\n",
    "nn_model.fit(x=X_nn_train, y=y_nn_train, batch_size=128, epochs=100, class_weight=class_weights, validation_split=0.2)\n"
   ]
  },
  {
   "cell_type": "code",
   "execution_count": 2197,
   "metadata": {},
   "outputs": [
    {
     "name": "stdout",
     "output_type": "stream",
     "text": [
      "Wall time: 61.8 ms\n"
     ]
    }
   ],
   "source": [
    "%%time\n",
    "# Using model to predict target labels\n",
    "y_pred = nn_model.predict_classes(X_nn_test, verbose=2)+1"
   ]
  },
  {
   "cell_type": "code",
   "execution_count": 2198,
   "metadata": {},
   "outputs": [
    {
     "data": {
      "image/png": "[encoded data removed]",
      "text/plain": [
       "<Figure size 576x576 with 1 Axes>"
      ]
     },
     "metadata": {
      "needs_background": "light"
     },
     "output_type": "display_data"
    }
   ],
   "source": [
    "# Constructing the confusion matrix\n",
    "nn_mat = confusion_matrix(y_test, y_pred)\n",
    "# Defining heigh & width for the figure\n",
    "plt.figure(figsize=(8,8))\n",
    "# Defining parameters for the heat map\n",
    "ax = sns.heatmap(nn_mat.T, square=True, annot=True, fmt='d', cbar=False, cmap='OrRd', annot_kws={\"size\": 14})\n",
    "ax.set_ylim(5,0)\n",
    "# Defining title and label names\n",
    "plt.title('RF Confusion Matrix', fontsize=18)\n",
    "plt.xlabel('True label', fontsize=14)\n",
    "plt.ylabel('Predicted label', fontsize=14)\n",
    "# Denoting ticks on the axis\n",
    "ax.set_xticklabels(labels=['CN','EMCI','LMCI','SMC','AD'])\n",
    "ax.set_yticklabels(labels=['CN','EMCI','LMCI','SMC','AD'])\n",
    "# Showing the plot\n",
    "plt.show()"
   ]
  },
  {
   "cell_type": "code",
   "execution_count": 2199,
   "metadata": {},
   "outputs": [
    {
     "name": "stdout",
     "output_type": "stream",
     "text": [
      "0.2759643793106079\n"
     ]
    }
   ],
   "source": [
    "# Evaluating accuracy\n",
    "_, accuracy = nn_model.evaluate(X_nn_test, y_nn_test, verbose=0)\n",
    "print(accuracy)"
   ]
  },
  {
   "cell_type": "code",
   "execution_count": 2200,
   "metadata": {},
   "outputs": [
    {
     "name": "stdout",
     "output_type": "stream",
     "text": [
      "              precision    recall  f1-score   support\n",
      "\n",
      "          CN       0.40      0.34      0.37        97\n",
      "        EMCI       0.30      0.36      0.33        89\n",
      "        LMCI       0.38      0.18      0.25        93\n",
      "         SMC       0.00      0.00      0.00        26\n",
      "          AD       0.11      0.34      0.17        32\n",
      "\n",
      "    accuracy                           0.28       337\n",
      "   macro avg       0.24      0.25      0.22       337\n",
      "weighted avg       0.31      0.28      0.28       337\n",
      "\n"
     ]
    }
   ],
   "source": [
    "# Classification report - computing precision, recall, f1-score\n",
    "# print(classification_report(y_test, y_pred, target_names=['CN','EMCI','AD'], labels=[1,2,5]))\n",
    "print(classification_report(y_test, y_pred, target_names=['CN','EMCI','LMCI','SMC','AD']))"
   ]
  },
  {
   "cell_type": "code",
   "execution_count": 2201,
   "metadata": {},
   "outputs": [
    {
     "data": {
      "text/plain": [
       "0.24526048925789884"
      ]
     },
     "execution_count": 2201,
     "metadata": {},
     "output_type": "execute_result"
    }
   ],
   "source": [
    "balanced_accuracy_score(y_test,y_pred)"
   ]
  },
  {
   "cell_type": "code",
   "execution_count": null,
   "metadata": {},
   "outputs": [],
   "source": []
  },
  {
   "cell_type": "code",
   "execution_count": null,
   "metadata": {},
   "outputs": [],
   "source": []
  }
 ],
 "metadata": {
  "kernelspec": {
   "display_name": "Python 3",
   "language": "python",
   "name": "python3"
  },
  "language_info": {
   "codemirror_mode": {
    "name": "ipython",
    "version": 3
   },
   "file_extension": ".py",
   "mimetype": "text/x-python",
   "name": "python",
   "nbconvert_exporter": "python",
   "pygments_lexer": "ipython3",
   "version": "3.7.4"
  }
 },
 "nbformat": 4,
 "nbformat_minor": 2
}
